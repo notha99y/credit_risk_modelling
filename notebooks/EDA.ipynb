{
 "cells": [
  {
   "cell_type": "code",
   "execution_count": null,
   "id": "e4126a2e",
   "metadata": {},
   "outputs": [],
   "source": [
    "import os\n",
    "os.chdir('..')\n",
    "import numpy as np\n",
    "import pandas as pd"
   ]
  },
  {
   "cell_type": "code",
   "execution_count": null,
   "id": "82e6d2cf",
   "metadata": {},
   "outputs": [],
   "source": [
    "from src.iv_helper import woe_discrete, woe_ordered_continuous, plot_by_woe"
   ]
  },
  {
   "cell_type": "code",
   "execution_count": null,
   "id": "f8d5467c",
   "metadata": {},
   "outputs": [],
   "source": [
    "pd.set_option('display.max_columns', 100)\n",
    "pd.set_option('display.max_rows', 20)\n",
    "pd.set_option('float_format', '{:.5f}'.format)\n",
    "pd.set_option('display.float_format', '{:.5f}'.format)"
   ]
  },
  {
   "cell_type": "code",
   "execution_count": null,
   "id": "b32af52e",
   "metadata": {},
   "outputs": [],
   "source": [
    "loan_df['loan_status'].value_counts()"
   ]
  },
  {
   "cell_type": "code",
   "execution_count": null,
   "id": "0c2bd7fd",
   "metadata": {},
   "outputs": [],
   "source": [
    "loan_df['good_bad'] = np.where(\n",
    "    loan_df['loan_status'].isin(\n",
    "        ['Charged Off', 'Default', 'Does not meet the credit policy. Status:Charged Off', 'Late (16-30 days)']\n",
    "    ), 0, 1\n",
    ")"
   ]
  },
  {
   "cell_type": "code",
   "execution_count": null,
   "id": "40c61222",
   "metadata": {},
   "outputs": [],
   "source": [
    "loan_df['good_bad'].value_counts()"
   ]
  },
  {
   "cell_type": "code",
   "execution_count": null,
   "id": "e70bcb60",
   "metadata": {
    "scrolled": true
   },
   "outputs": [],
   "source": [
    "loan_df = pd.read_csv('data/loan_data_2007_2014.csv')"
   ]
  },
  {
   "cell_type": "code",
   "execution_count": null,
   "id": "36a3f37c",
   "metadata": {},
   "outputs": [],
   "source": [
    "loan_df.columns"
   ]
  },
  {
   "cell_type": "code",
   "execution_count": null,
   "id": "d23b0bf3",
   "metadata": {
    "scrolled": true
   },
   "outputs": [],
   "source": [
    "loan_df['grade'].value_counts()"
   ]
  },
  {
   "cell_type": "code",
   "execution_count": null,
   "id": "39a9d2f4",
   "metadata": {},
   "outputs": [],
   "source": [
    "df_temp = woe_discrete(loan_df, 'grade', loan_df['good_bad'])"
   ]
  },
  {
   "cell_type": "code",
   "execution_count": null,
   "id": "5ba3604f",
   "metadata": {},
   "outputs": [],
   "source": [
    "df_temp"
   ]
  },
  {
   "cell_type": "code",
   "execution_count": null,
   "id": "4d23efbe",
   "metadata": {},
   "outputs": [],
   "source": [
    "plot_by_woe(df_temp)"
   ]
  },
  {
   "cell_type": "code",
   "execution_count": null,
   "id": "6c6ef345",
   "metadata": {},
   "outputs": [],
   "source": [
    "loan_df['emp_length'].value_counts()"
   ]
  },
  {
   "cell_type": "code",
   "execution_count": null,
   "id": "4091df6a",
   "metadata": {},
   "outputs": [],
   "source": [
    "loan_df['emp_length_int'].value_counts()"
   ]
  },
  {
   "cell_type": "code",
   "execution_count": null,
   "id": "5e08b895",
   "metadata": {},
   "outputs": [],
   "source": [
    "loan_df['emp_length_int'] = loan_df['emp_length'].str.replace('\\+ years', '')\n",
    "loan_df['emp_length_int'] = loan_df['emp_length_int'].str.replace('< 1 year', str(0))\n",
    "loan_df['emp_length_int'] = loan_df['emp_length_int'].str.replace('n/a',  str(0))\n",
    "loan_df['emp_length_int'] = loan_df['emp_length_int'].str.replace(' years', '')\n",
    "loan_df['emp_length_int'] = loan_df['emp_length_int'].str.replace(' year', '')"
   ]
  },
  {
   "cell_type": "code",
   "execution_count": null,
   "id": "e07018c6",
   "metadata": {},
   "outputs": [],
   "source": [
    "df_temp = woe_ordered_continuous(loan_df, 'emp_length_int', loan_df['good_bad'])\n",
    "df_temp"
   ]
  },
  {
   "cell_type": "code",
   "execution_count": null,
   "id": "23eadd6f",
   "metadata": {},
   "outputs": [],
   "source": [
    "loan_df.info()"
   ]
  },
  {
   "cell_type": "code",
   "execution_count": null,
   "id": "537c0685",
   "metadata": {},
   "outputs": [],
   "source": []
  }
 ],
 "metadata": {
  "kernelspec": {
   "display_name": "Python 3 (ipykernel)",
   "language": "python",
   "name": "python3"
  },
  "language_info": {
   "codemirror_mode": {
    "name": "ipython",
    "version": 3
   },
   "file_extension": ".py",
   "mimetype": "text/x-python",
   "name": "python",
   "nbconvert_exporter": "python",
   "pygments_lexer": "ipython3",
   "version": "3.9.7"
  },
  "vscode": {
   "interpreter": {
    "hash": "31f2aee4e71d21fbe5cf8b01ff0e069b9275f58929596ceb00d14d90e3e16cd6"
   }
  }
 },
 "nbformat": 4,
 "nbformat_minor": 5
}
